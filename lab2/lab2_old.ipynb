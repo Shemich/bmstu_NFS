{
 "cells": [
  {
   "cell_type": "markdown",
   "id": "varying-report",
   "metadata": {},
   "source": [
    "# Нейро-нечеткие системы\n",
    "\n",
    "## Лабораторная работа №2\n",
    "\n",
    "### Классификация, оценка точности классификации\n",
    "\n",
    "Для выбранного набора данных необходимо провести сравнение результатов работы классификаторов из двух групп на выбор:\n",
    "\n",
    "- регрессия (линейная, нелинейная, логистическая, метод опорных векторов), k-ближайших соседей;\n",
    "- деревья принятия решений (деревья, случайный лес);\n",
    "- бустинг (один из методов на выбор).\n",
    "\n",
    "Для каждого метода необходимо построить матрицу ошибок и рассчитать одну из следующих метрик: f-мера, ROC AUC, accuracy.\n",
    "При обучении классификатора необходимо использовать кроссвалидацию. Необходимо визуализировать изменение точности работы метода на разных шагах кроссвалидации. Необходимо показать как меняется точность классификации при изменении гиперпараметров."
   ]
  },
  {
   "cell_type": "markdown",
   "id": "blond-jordan",
   "metadata": {},
   "source": [
    "### Набор данных\n"
   ]
  },
  {
   "cell_type": "markdown",
   "id": "placed-discrimination",
   "metadata": {},
   "source": [
    "Left 4 Dead 2 20,000+ Player's Statistics (https://www.kaggle.com/datasets/jacklacey/left-4-dead-2-20000-player-stats)\n",
    "![подпись](img/image.jpg)"
   ]
  },
  {
   "cell_type": "code",
   "execution_count": null,
   "id": "editorial-sugar",
   "metadata": {},
   "outputs": [],
   "source": []
  }
 ],
 "metadata": {
  "kernelspec": {
   "display_name": "Python 3 (ipykernel)",
   "language": "python",
   "name": "python3"
  },
  "language_info": {
   "codemirror_mode": {
    "name": "ipython",
    "version": 3
   },
   "file_extension": ".py",
   "mimetype": "text/x-python",
   "name": "python",
   "nbconvert_exporter": "python",
   "pygments_lexer": "ipython3",
   "version": "3.10.6"
  }
 },
 "nbformat": 4,
 "nbformat_minor": 5
}
